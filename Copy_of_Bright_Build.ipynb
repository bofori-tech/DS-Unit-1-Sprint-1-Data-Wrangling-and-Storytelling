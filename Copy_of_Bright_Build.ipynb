{
  "nbformat": 4,
  "nbformat_minor": 0,
  "metadata": {
    "colab": {
      "name": "Copy of Bright Build",
      "provenance": [],
      "authorship_tag": "ABX9TyMmWbDJLQNTRFwb3QDWvD6T",
      "include_colab_link": true
    },
    "kernelspec": {
      "name": "python3",
      "display_name": "Python 3"
    }
  },
  "cells": [
    {
      "cell_type": "markdown",
      "metadata": {
        "id": "view-in-github",
        "colab_type": "text"
      },
      "source": [
        "<a href=\"https://colab.research.google.com/github/bofori-tech/DS-Unit-1-Sprint-1-Data-Wrangling-and-Storytelling/blob/master/Copy_of_Bright_Build.ipynb\" target=\"_parent\"><img src=\"https://colab.research.google.com/assets/colab-badge.svg\" alt=\"Open In Colab\"/></a>"
      ]
    },
    {
      "cell_type": "code",
      "metadata": {
        "id": "cLJC_-MHpB6I",
        "colab_type": "code",
        "colab": {}
      },
      "source": [
        "https://www.kaggle.com/rezag7/homeless-dataset/download"
      ],
      "execution_count": null,
      "outputs": []
    },
    {
      "cell_type": "code",
      "metadata": {
        "id": "FTaHucRyr3yw",
        "colab_type": "code",
        "colab": {}
      },
      "source": [
        "import pandas as pd\n"
      ],
      "execution_count": null,
      "outputs": []
    },
    {
      "cell_type": "code",
      "metadata": {
        "id": "Amw3vK30-6Ws",
        "colab_type": "code",
        "colab": {
          "base_uri": "https://localhost:8080/",
          "height": 204
        },
        "outputId": "e8e8b72a-b100-4de1-c5d7-2a389f7a6f3e"
      },
      "source": [
        "hless=pd.read_csv('datasets_389627_752018_homeless_prep.csv')\n",
        "hless.head()"
      ],
      "execution_count": null,
      "outputs": [
        {
          "output_type": "execute_result",
          "data": {
            "text/html": [
              "<div>\n",
              "<style scoped>\n",
              "    .dataframe tbody tr th:only-of-type {\n",
              "        vertical-align: middle;\n",
              "    }\n",
              "\n",
              "    .dataframe tbody tr th {\n",
              "        vertical-align: top;\n",
              "    }\n",
              "\n",
              "    .dataframe thead th {\n",
              "        text-align: right;\n",
              "    }\n",
              "</style>\n",
              "<table border=\"1\" class=\"dataframe\">\n",
              "  <thead>\n",
              "    <tr style=\"text-align: right;\">\n",
              "      <th></th>\n",
              "      <th>CLIENT_KEY</th>\n",
              "      <th>AGE</th>\n",
              "      <th>GENDER</th>\n",
              "      <th>VETERAN</th>\n",
              "      <th>INCOME</th>\n",
              "      <th>NIGHTS</th>\n",
              "      <th>substanceabuse</th>\n",
              "      <th>completed</th>\n",
              "      <th>probation</th>\n",
              "      <th>assistancetype</th>\n",
              "      <th>required</th>\n",
              "    </tr>\n",
              "  </thead>\n",
              "  <tbody>\n",
              "    <tr>\n",
              "      <th>0</th>\n",
              "      <td>256172</td>\n",
              "      <td>20</td>\n",
              "      <td>Female</td>\n",
              "      <td>No</td>\n",
              "      <td>0.0</td>\n",
              "      <td>152.0</td>\n",
              "      <td>0</td>\n",
              "      <td>0</td>\n",
              "      <td>1</td>\n",
              "      <td>tempassistance</td>\n",
              "      <td>1</td>\n",
              "    </tr>\n",
              "    <tr>\n",
              "      <th>1</th>\n",
              "      <td>221079</td>\n",
              "      <td>20</td>\n",
              "      <td>Female</td>\n",
              "      <td>No</td>\n",
              "      <td>740.0</td>\n",
              "      <td>229.0</td>\n",
              "      <td>0</td>\n",
              "      <td>1</td>\n",
              "      <td>0</td>\n",
              "      <td>tempassistance</td>\n",
              "      <td>1</td>\n",
              "    </tr>\n",
              "    <tr>\n",
              "      <th>2</th>\n",
              "      <td>243074</td>\n",
              "      <td>21</td>\n",
              "      <td>Female</td>\n",
              "      <td>No</td>\n",
              "      <td>0.0</td>\n",
              "      <td>105.0</td>\n",
              "      <td>1</td>\n",
              "      <td>1</td>\n",
              "      <td>0</td>\n",
              "      <td>tempassistance</td>\n",
              "      <td>1</td>\n",
              "    </tr>\n",
              "    <tr>\n",
              "      <th>3</th>\n",
              "      <td>129974</td>\n",
              "      <td>21</td>\n",
              "      <td>Female</td>\n",
              "      <td>No</td>\n",
              "      <td>0.0</td>\n",
              "      <td>371.0</td>\n",
              "      <td>1</td>\n",
              "      <td>1</td>\n",
              "      <td>0</td>\n",
              "      <td>tempassistance</td>\n",
              "      <td>1</td>\n",
              "    </tr>\n",
              "    <tr>\n",
              "      <th>4</th>\n",
              "      <td>226596</td>\n",
              "      <td>22</td>\n",
              "      <td>Female</td>\n",
              "      <td>No</td>\n",
              "      <td>0.0</td>\n",
              "      <td>169.0</td>\n",
              "      <td>0</td>\n",
              "      <td>0</td>\n",
              "      <td>0</td>\n",
              "      <td>tempassistance</td>\n",
              "      <td>1</td>\n",
              "    </tr>\n",
              "  </tbody>\n",
              "</table>\n",
              "</div>"
            ],
            "text/plain": [
              "   CLIENT_KEY  AGE  GENDER  ... probation  assistancetype  required\n",
              "0      256172   20  Female  ...         1  tempassistance         1\n",
              "1      221079   20  Female  ...         0  tempassistance         1\n",
              "2      243074   21  Female  ...         0  tempassistance         1\n",
              "3      129974   21  Female  ...         0  tempassistance         1\n",
              "4      226596   22  Female  ...         0  tempassistance         1\n",
              "\n",
              "[5 rows x 11 columns]"
            ]
          },
          "metadata": {
            "tags": []
          },
          "execution_count": 21
        }
      ]
    },
    {
      "cell_type": "code",
      "metadata": {
        "id": "qhfXdgdjDjCU",
        "colab_type": "code",
        "colab": {
          "base_uri": "https://localhost:8080/",
          "height": 85
        },
        "outputId": "b7d268a2-ec14-4162-d571-7a03156315b5"
      },
      "source": [
        "hless.columns"
      ],
      "execution_count": null,
      "outputs": [
        {
          "output_type": "execute_result",
          "data": {
            "text/plain": [
              "Index(['CLIENT_KEY', 'AGE', 'GENDER', 'VETERAN', 'INCOME', 'NIGHTS',\n",
              "       'substanceabuse', 'completed', 'probation', 'assistancetype',\n",
              "       'required'],\n",
              "      dtype='object')"
            ]
          },
          "metadata": {
            "tags": []
          },
          "execution_count": 23
        }
      ]
    },
    {
      "cell_type": "code",
      "metadata": {
        "id": "rXIN0cMmVcZH",
        "colab_type": "code",
        "colab": {}
      },
      "source": [
        "!wget https://www.kaggle.com/adamschroeder/homelessness/download"
      ],
      "execution_count": null,
      "outputs": []
    },
    {
      "cell_type": "code",
      "metadata": {
        "id": "YpZEJ-a7WNhP",
        "colab_type": "code",
        "colab": {
          "base_uri": "https://localhost:8080/",
          "height": 221
        },
        "outputId": "309f13a0-61d8-4cee-e7b2-ec7718de41d7"
      },
      "source": [
        "hmnusa=pd.read_csv('2007-2016-Homelessnewss-USA.csv')\n",
        "print(hmness.shape)\n",
        "hmnusa.head()"
      ],
      "execution_count": null,
      "outputs": [
        {
          "output_type": "stream",
          "text": [
            "(86529, 6)\n"
          ],
          "name": "stdout"
        },
        {
          "output_type": "execute_result",
          "data": {
            "text/html": [
              "<div>\n",
              "<style scoped>\n",
              "    .dataframe tbody tr th:only-of-type {\n",
              "        vertical-align: middle;\n",
              "    }\n",
              "\n",
              "    .dataframe tbody tr th {\n",
              "        vertical-align: top;\n",
              "    }\n",
              "\n",
              "    .dataframe thead th {\n",
              "        text-align: right;\n",
              "    }\n",
              "</style>\n",
              "<table border=\"1\" class=\"dataframe\">\n",
              "  <thead>\n",
              "    <tr style=\"text-align: right;\">\n",
              "      <th></th>\n",
              "      <th>Year</th>\n",
              "      <th>State</th>\n",
              "      <th>CoC Number</th>\n",
              "      <th>CoC Name</th>\n",
              "      <th>Measures</th>\n",
              "      <th>Count</th>\n",
              "    </tr>\n",
              "  </thead>\n",
              "  <tbody>\n",
              "    <tr>\n",
              "      <th>0</th>\n",
              "      <td>1/1/2007</td>\n",
              "      <td>AK</td>\n",
              "      <td>AK-500</td>\n",
              "      <td>Anchorage CoC</td>\n",
              "      <td>Chronically Homeless Individuals</td>\n",
              "      <td>224</td>\n",
              "    </tr>\n",
              "    <tr>\n",
              "      <th>1</th>\n",
              "      <td>1/1/2007</td>\n",
              "      <td>AK</td>\n",
              "      <td>AK-500</td>\n",
              "      <td>Anchorage CoC</td>\n",
              "      <td>Homeless Individuals</td>\n",
              "      <td>696</td>\n",
              "    </tr>\n",
              "    <tr>\n",
              "      <th>2</th>\n",
              "      <td>1/1/2007</td>\n",
              "      <td>AK</td>\n",
              "      <td>AK-500</td>\n",
              "      <td>Anchorage CoC</td>\n",
              "      <td>Homeless People in Families</td>\n",
              "      <td>278</td>\n",
              "    </tr>\n",
              "    <tr>\n",
              "      <th>3</th>\n",
              "      <td>1/1/2007</td>\n",
              "      <td>AK</td>\n",
              "      <td>AK-500</td>\n",
              "      <td>Anchorage CoC</td>\n",
              "      <td>Sheltered Chronically Homeless Individuals</td>\n",
              "      <td>187</td>\n",
              "    </tr>\n",
              "    <tr>\n",
              "      <th>4</th>\n",
              "      <td>1/1/2007</td>\n",
              "      <td>AK</td>\n",
              "      <td>AK-500</td>\n",
              "      <td>Anchorage CoC</td>\n",
              "      <td>Sheltered Homeless</td>\n",
              "      <td>842</td>\n",
              "    </tr>\n",
              "  </tbody>\n",
              "</table>\n",
              "</div>"
            ],
            "text/plain": [
              "       Year State  ...                                    Measures Count\n",
              "0  1/1/2007    AK  ...            Chronically Homeless Individuals   224\n",
              "1  1/1/2007    AK  ...                        Homeless Individuals   696\n",
              "2  1/1/2007    AK  ...                 Homeless People in Families   278\n",
              "3  1/1/2007    AK  ...  Sheltered Chronically Homeless Individuals   187\n",
              "4  1/1/2007    AK  ...                          Sheltered Homeless   842\n",
              "\n",
              "[5 rows x 6 columns]"
            ]
          },
          "metadata": {
            "tags": []
          },
          "execution_count": 22
        }
      ]
    },
    {
      "cell_type": "code",
      "metadata": {
        "id": "_BWukc_HDvZz",
        "colab_type": "code",
        "colab": {
          "base_uri": "https://localhost:8080/",
          "height": 34
        },
        "outputId": "d354a9a4-a922-4590-83c1-f62f1b031ed1"
      },
      "source": [
        "hmnusa.columns"
      ],
      "execution_count": null,
      "outputs": [
        {
          "output_type": "execute_result",
          "data": {
            "text/plain": [
              "Index(['Year', 'State', 'CoC Number', 'CoC Name', 'Measures', 'Count'], dtype='object')"
            ]
          },
          "metadata": {
            "tags": []
          },
          "execution_count": 24
        }
      ]
    },
    {
      "cell_type": "code",
      "metadata": {
        "id": "A9MGzW6xXS2E",
        "colab_type": "code",
        "colab": {
          "base_uri": "https://localhost:8080/",
          "height": 309
        },
        "outputId": "283a229b-bf18-402e-a222-3ae59dfc1639"
      },
      "source": [
        "pop=pd.read_csv('Population-by-state.csv')\n",
        "print(pop.shape)\n",
        "pop.head()"
      ],
      "execution_count": null,
      "outputs": [
        {
          "output_type": "stream",
          "text": [
            "(53, 12)\n"
          ],
          "name": "stdout"
        },
        {
          "output_type": "execute_result",
          "data": {
            "text/html": [
              "<div>\n",
              "<style scoped>\n",
              "    .dataframe tbody tr th:only-of-type {\n",
              "        vertical-align: middle;\n",
              "    }\n",
              "\n",
              "    .dataframe tbody tr th {\n",
              "        vertical-align: top;\n",
              "    }\n",
              "\n",
              "    .dataframe thead th {\n",
              "        text-align: right;\n",
              "    }\n",
              "</style>\n",
              "<table border=\"1\" class=\"dataframe\">\n",
              "  <thead>\n",
              "    <tr style=\"text-align: right;\">\n",
              "      <th></th>\n",
              "      <th>GEO.id</th>\n",
              "      <th>GEO.id2</th>\n",
              "      <th>GEO.display-label</th>\n",
              "      <th>rescen42010</th>\n",
              "      <th>resbase42010</th>\n",
              "      <th>respop72010</th>\n",
              "      <th>respop72011</th>\n",
              "      <th>respop72012</th>\n",
              "      <th>respop72013</th>\n",
              "      <th>respop72014</th>\n",
              "      <th>respop72015</th>\n",
              "      <th>respop72016</th>\n",
              "    </tr>\n",
              "  </thead>\n",
              "  <tbody>\n",
              "    <tr>\n",
              "      <th>0</th>\n",
              "      <td>Id</td>\n",
              "      <td>Id2</td>\n",
              "      <td>Geography</td>\n",
              "      <td>April 1, 2010 - Census</td>\n",
              "      <td>April 1, 2010 - Estimates Base</td>\n",
              "      <td>Population Estimate (as of July 1) - 2010</td>\n",
              "      <td>Population Estimate (as of July 1) - 2011</td>\n",
              "      <td>Population Estimate (as of July 1) - 2012</td>\n",
              "      <td>Population Estimate (as of July 1) - 2013</td>\n",
              "      <td>Population Estimate (as of July 1) - 2014</td>\n",
              "      <td>Population Estimate (as of July 1) - 2015</td>\n",
              "      <td>Population Estimate (as of July 1) - 2016</td>\n",
              "    </tr>\n",
              "    <tr>\n",
              "      <th>1</th>\n",
              "      <td>0400000US01</td>\n",
              "      <td>1</td>\n",
              "      <td>Alabama</td>\n",
              "      <td>4779736</td>\n",
              "      <td>4780131</td>\n",
              "      <td>4785492</td>\n",
              "      <td>4799918</td>\n",
              "      <td>4815960</td>\n",
              "      <td>4829479</td>\n",
              "      <td>4843214</td>\n",
              "      <td>4853875</td>\n",
              "      <td>4863300</td>\n",
              "    </tr>\n",
              "    <tr>\n",
              "      <th>2</th>\n",
              "      <td>0400000US02</td>\n",
              "      <td>2</td>\n",
              "      <td>Alaska</td>\n",
              "      <td>710231</td>\n",
              "      <td>710249</td>\n",
              "      <td>714031</td>\n",
              "      <td>722713</td>\n",
              "      <td>731089</td>\n",
              "      <td>736879</td>\n",
              "      <td>736705</td>\n",
              "      <td>737709</td>\n",
              "      <td>741894</td>\n",
              "    </tr>\n",
              "    <tr>\n",
              "      <th>3</th>\n",
              "      <td>0400000US04</td>\n",
              "      <td>4</td>\n",
              "      <td>Arizona</td>\n",
              "      <td>6392017</td>\n",
              "      <td>6392301</td>\n",
              "      <td>6408312</td>\n",
              "      <td>6467163</td>\n",
              "      <td>6549634</td>\n",
              "      <td>6624617</td>\n",
              "      <td>6719993</td>\n",
              "      <td>6817565</td>\n",
              "      <td>6931071</td>\n",
              "    </tr>\n",
              "    <tr>\n",
              "      <th>4</th>\n",
              "      <td>0400000US05</td>\n",
              "      <td>5</td>\n",
              "      <td>Arkansas</td>\n",
              "      <td>2915918</td>\n",
              "      <td>2916025</td>\n",
              "      <td>2921995</td>\n",
              "      <td>2939493</td>\n",
              "      <td>2950685</td>\n",
              "      <td>2958663</td>\n",
              "      <td>2966912</td>\n",
              "      <td>2977853</td>\n",
              "      <td>2988248</td>\n",
              "    </tr>\n",
              "  </tbody>\n",
              "</table>\n",
              "</div>"
            ],
            "text/plain": [
              "        GEO.id  ...                                respop72016\n",
              "0           Id  ...  Population Estimate (as of July 1) - 2016\n",
              "1  0400000US01  ...                                    4863300\n",
              "2  0400000US02  ...                                     741894\n",
              "3  0400000US04  ...                                    6931071\n",
              "4  0400000US05  ...                                    2988248\n",
              "\n",
              "[5 rows x 12 columns]"
            ]
          },
          "metadata": {
            "tags": []
          },
          "execution_count": 20
        }
      ]
    },
    {
      "cell_type": "code",
      "metadata": {
        "id": "YBWloBgFD33c",
        "colab_type": "code",
        "colab": {
          "base_uri": "https://localhost:8080/",
          "height": 85
        },
        "outputId": "e7278ca7-472d-4bba-e9bd-192e31395a54"
      },
      "source": [
        "pop.columns"
      ],
      "execution_count": null,
      "outputs": [
        {
          "output_type": "execute_result",
          "data": {
            "text/plain": [
              "Index(['GEO.id', 'GEO.id2', 'GEO.display-label', 'rescen42010', 'resbase42010',\n",
              "       'respop72010', 'respop72011', 'respop72012', 'respop72013',\n",
              "       'respop72014', 'respop72015', 'respop72016'],\n",
              "      dtype='object')"
            ]
          },
          "metadata": {
            "tags": []
          },
          "execution_count": 25
        }
      ]
    }
  ]
}